{
 "cells": [
  {
   "cell_type": "markdown",
   "metadata": {},
   "source": [
    "Python Inheritance\n",
    "\n",
    "Inheritance allows us to define a class that inherits all the methods and properties from another class.\n",
    "\n",
    "Parent class is the class being inherited from, also called base class.\n",
    "\n",
    "Child class is the class that inherits from another class, also called derived class."
   ]
  },
  {
   "cell_type": "markdown",
   "metadata": {},
   "source": [
    "Create a Parent Class\n",
    "\n",
    "Any class can be a parent class, so the syntax is the same as creating any other class:\n",
    "\n",
    "Create a Parent Class\n",
    "\n",
    "Any class can be a parent class, so the syntax is the same as creating any other class:\n",
    "\n",
    "Use the super() Function\n",
    "\n",
    "Python also has a super() function that will make the child class inherit all the methods and properties from its parent:"
   ]
  },
  {
   "cell_type": "markdown",
   "metadata": {},
   "source": [
    "SUMMARY:\n",
    "\n",
    "Inheritance allows us to define a class that inherits all the methods and properties from another class.\n",
    "To create a class that inherits the functionality from another class, send the parent class as a parameter when creating the child class:\n",
    "Note: The child's __init__() function overrides the inheritance of the parent's __init__() function.\n",
    "To keep the inheritance of the parent's __init__() function, add a call to the parent's __init__() function:\n",
    "Python also has a super() function that will make the child class inherit all the methods and properties from its parent:\n",
    "By using the super() function, you do not have to use the name of the parent element, it will automatically inherit the methods and properties from its parent.\n",
    "If you add a method in the child class with the same name as a function in the parent class, the inheritance of the parent method will be overridden."
   ]
  },
  {
   "cell_type": "markdown",
   "metadata": {},
   "source": [
    "Example\n",
    "\n",
    "Create a class named Person, with firstname, lastname and age properties, and a printname method:\n",
    "Use the Person class to create an object, and then execute the printname method:\n",
    "Create a class named Student, which will inherit the properties and methods from the Person class:\n",
    "Add a property called graduationyear and email address to the Student class:\n",
    "Add a method called welcome to the Student class:\n",
    "Add a year and email parameters, and pass the correct year when creating objects:"
   ]
  },
  {
   "cell_type": "code",
   "execution_count": 4,
   "metadata": {},
   "outputs": [
    {
     "name": "stdout",
     "output_type": "stream",
     "text": [
      "My name is Chucknorris Madamombe. I am 35 years old.\n"
     ]
    }
   ],
   "source": [
    "# Create a class named Person, with firstname, lastname and age properties, and a printname method\n",
    "class Person:\n",
    "    def __init__(self, firstname, lastname, age):\n",
    "        self.firstname = firstname\n",
    "        self.lastname = lastname\n",
    "        self.age = age\n",
    "    # defining the printname method\n",
    "    def printname(self): \n",
    "        statement = print('My name is ' + self.firstname + ' ' + self.lastname + '. ' + 'I am ' + str(self.age) + ' years old.')\n",
    "        return statement\n",
    "# creating objects from the Person class and call the printname method\n",
    "p = Person('Chucknorris', 'Madamombe', 35)\n",
    "p.printname()\n"
   ]
  },
  {
   "cell_type": "code",
   "execution_count": 10,
   "metadata": {},
   "outputs": [
    {
     "name": "stdout",
     "output_type": "stream",
     "text": [
      "My name is Chucknorris Madamombe. I am 35 years old.I attended my first graduation in the year 2012. My email address is chuckygari@gmail.com.\n"
     ]
    }
   ],
   "source": [
    "# create a class named Student, which will inherit the properties and methods from the Person class:\n",
    "class Student(Person):\n",
    "    def __init__(self, firstname, lastname, age, graduationyear, email): # define the __init__() function and add aditional properties\n",
    "        super().__init__(firstname, lastname, age) #use super().__init__() function of the parent class\n",
    "        self.graduationyear = graduationyear\n",
    "        self.email = email\n",
    "    def welcome(self):\n",
    "        welcome_message = print('My name is ' + self.firstname + ' ' + self.lastname + '. ' + 'I am ' + str(self.age) + ' years old.'\n",
    "                                + 'I attended my first graduation in the year ' + str(self.graduationyear) + '.' + ' My email address is ' + self.email + '.' \n",
    "                                )\n",
    "#create objects from the Student class, and call the welcome method.\n",
    "s = Student('Chucknorris', 'Madamombe', 35, 2012, 'chuckygari@gmail.com')\n",
    "s.welcome()\n"
   ]
  }
 ],
 "metadata": {
  "interpreter": {
   "hash": "30189b964dcb23dc95bde1cf509540c5241c46a4a9513a7dc87a0d6864142d4b"
  },
  "kernelspec": {
   "display_name": "Python 3.10.2 64-bit",
   "language": "python",
   "name": "python3"
  },
  "language_info": {
   "codemirror_mode": {
    "name": "ipython",
    "version": 3
   },
   "file_extension": ".py",
   "mimetype": "text/x-python",
   "name": "python",
   "nbconvert_exporter": "python",
   "pygments_lexer": "ipython3",
   "version": "3.10.2"
  },
  "orig_nbformat": 4
 },
 "nbformat": 4,
 "nbformat_minor": 2
}
