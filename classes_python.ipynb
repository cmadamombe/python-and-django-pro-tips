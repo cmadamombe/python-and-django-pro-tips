{
 "cells": [
  {
   "cell_type": "markdown",
   "metadata": {},
   "source": [
    "The __init__() Function\n",
    "\n",
    "The examples above are classes and objects in their simplest form, and are not really useful in real life applications. To understand the meaning of classes we have to understand the built-in __init__() function. All classes have a function called __init__(), which is always executed when the class is being initiated. Use the __init__() function to assign values to object properties, or other operations that are necessary to do when the object is being created:\n",
    "\n",
    "Example:\n",
    "\n",
    "Create a class named Person, use the __init__() function to assign values for name, surname, age, and email:"
   ]
  },
  {
   "cell_type": "code",
   "execution_count": 2,
   "metadata": {},
   "outputs": [
    {
     "name": "stdout",
     "output_type": "stream",
     "text": [
      "Chucknorris\n",
      "Madamombe\n",
      "35\n",
      "chuckygari@gmail.com\n"
     ]
    }
   ],
   "source": [
    "class Person:\n",
    "    def __init__(self, name, surname, age, email):\n",
    "        self.name = name\n",
    "        self.surname = surname\n",
    "        self.age = age\n",
    "        self.email = email\n",
    "p1 = Person('Chucknorris', 'Madamombe', 35, 'chuckygari@gmail.com')\n",
    "print(p1.name)\n",
    "print(p1.surname)\n",
    "print(p1.age)\n",
    "print(p1.email)\n",
    "    "
   ]
  },
  {
   "cell_type": "markdown",
   "metadata": {},
   "source": [
    "Object Methods\n",
    "\n",
    "Objects can also contain methods. Methods in objects are functions that belong to the object.\n",
    "\n",
    "Let us create a method in the Person class:\n",
    "\n",
    "Example\n",
    "\n",
    "Insert a function that prints a greeting, and execute it on the p1 object:"
   ]
  },
  {
   "cell_type": "code",
   "execution_count": 5,
   "metadata": {},
   "outputs": [
    {
     "name": "stdout",
     "output_type": "stream",
     "text": [
      "My name is Chucknorris Madamombe. I am now 35 years old.\n"
     ]
    }
   ],
   "source": [
    "class Greetings:\n",
    "    def __init__(self, name, surname, age): # All classes must have an __init__ function defined. \n",
    "        self.name = name\n",
    "        self.surname = surname\n",
    "        self.age = age\n",
    "    \n",
    "    def introduce(self): # Method is a function defined inside the class\n",
    "        welcome_message = print('My name is ' + self.name + ' ' + self.surname + '.' + ' I am now ' + str(self.age) + ' years old.') \n",
    "        return welcome_message\n",
    "p1 = Greetings('Chucknorris', 'Madamombe', 35)\n",
    "p1.introduce()\n"
   ]
  }
 ],
 "metadata": {
  "interpreter": {
   "hash": "30189b964dcb23dc95bde1cf509540c5241c46a4a9513a7dc87a0d6864142d4b"
  },
  "kernelspec": {
   "display_name": "Python 3.10.2 64-bit",
   "language": "python",
   "name": "python3"
  },
  "language_info": {
   "codemirror_mode": {
    "name": "ipython",
    "version": 3
   },
   "file_extension": ".py",
   "mimetype": "text/x-python",
   "name": "python",
   "nbconvert_exporter": "python",
   "pygments_lexer": "ipython3",
   "version": "3.10.2"
  },
  "orig_nbformat": 4
 },
 "nbformat": 4,
 "nbformat_minor": 2
}
