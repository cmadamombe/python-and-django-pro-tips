{
 "cells": [
  {
   "cell_type": "markdown",
   "metadata": {},
   "source": [
    "Python Inheritance\n",
    "\n",
    "Inheritance allows us to define a class that inherits all the methods and properties from another class.\n",
    "\n",
    "Parent class is the class being inherited from, also called base class.\n",
    "\n",
    "Child class is the class that inherits from another class, also called derived class."
   ]
  },
  {
   "cell_type": "markdown",
   "metadata": {},
   "source": [
    "Create a Parent Class\n",
    "\n",
    "Any class can be a parent class, so the syntax is the same as creating any other class:\n",
    "\n",
    "Example:\n",
    "\n",
    "Create a class named Person, with firstname and lastname properties, and a printname method:"
   ]
  },
  {
   "cell_type": "code",
   "execution_count": null,
   "metadata": {},
   "outputs": [],
   "source": [
    "class Person:\n",
    "    def __init__(self, fname, lname):\n",
    "        self.fname = fname\n",
    "        self.lname = lname\n",
    "    def printname(self):\n",
    "        print(self.fname, self.lname)\n",
    "        \n",
    "#Use the Person class to create an object, and then execute the printname method:\n",
    "p1 = Person('Chucknorris', 'Madamombe')\n",
    "p1.printname()"
   ]
  },
  {
   "cell_type": "markdown",
   "metadata": {},
   "source": [
    "Create a Child Class\n",
    "\n",
    "To create a class that inherits the functionality from another class, send the parent class as a parameter when creating the child class:"
   ]
  },
  {
   "cell_type": "markdown",
   "metadata": {},
   "source": [
    "Add the __init__() Function\n",
    "\n",
    "So far we have created a child class that inherits the properties and methods from its parent.\n",
    "\n",
    "We want to add the __init__() function to the child class\n",
    "\n",
    "Note: The __init__() function is called automatically every time the class is being used to create a new object."
   ]
  },
  {
   "cell_type": "code",
   "execution_count": null,
   "metadata": {},
   "outputs": [],
   "source": [
    "class Student(Person):\n",
    "# When you add the __init__() function, the child class will no longer inherit the parent's __init__() function.\n",
    "  def __init__(self, fname, lname):\n",
    "    #add properties etc."
   ]
  },
  {
   "cell_type": "markdown",
   "metadata": {},
   "source": [
    "Note: The child's __init__() function overrides the inheritance of the parent's __init__() function.\n",
    "\n",
    "To keep the inheritance of the parent's __init__() function, add a call to the parent's __init__() function:"
   ]
  },
  {
   "cell_type": "code",
   "execution_count": null,
   "metadata": {},
   "outputs": [],
   "source": [
    "class Student(Person):\n",
    "  def __init__(self, fname, lname):\n",
    "    Person.__init__(self, fname, lname)"
   ]
  },
  {
   "cell_type": "markdown",
   "metadata": {},
   "source": [
    "Now we have successfully added the __init__() function, and kept the inheritance of the parent class, and we are ready to add functionality in the __init__() function."
   ]
  },
  {
   "cell_type": "markdown",
   "metadata": {},
   "source": [
    "Use the super() Function\n",
    "\n",
    "Python also has a super() function that will make the child class inherit all the methods and properties from its parent:\n",
    "\n",
    "By using the super() function, you do not have to use the name of the parent element, it will automatically inherit the methods and properties from its parent."
   ]
  },
  {
   "cell_type": "code",
   "execution_count": null,
   "metadata": {},
   "outputs": [],
   "source": [
    "class Student(Person):\n",
    "  def __init__(self, fname, lname, year):\n",
    "    super().__init__(fname, lname)\n",
    "    self.graduationyear = year\n",
    "\n",
    "  def welcome(self): # If you add a method in the child class with the same name as a function in the parent class, the inheritance of the parent method will be overridden.\n",
    "    print(\"Welcome\", self.firstname, self.lastname, \"to the class of\", self.graduationyear)"
   ]
  },
  {
   "cell_type": "code",
   "execution_count": null,
   "metadata": {},
   "outputs": [],
   "source": [
    "# Create a class named Person, with firstname, lastname and age properties, and a printname method\n",
    "class Person:\n",
    "    def __init__(self, firstname, lastname, age):\n",
    "        self.firstname = firstname\n",
    "        self.lastname = lastname\n",
    "        self.age = age\n",
    "    # defining the printname method\n",
    "    def printname(self): \n",
    "        statement = print('My name is ' + self.firstname + ' ' + self.lastname + '. ' + 'I am ' + str(self.age) + ' years old.')\n",
    "        return statement\n",
    "# creating objects from the Person class and call the printname method\n",
    "p = Person('Chucknorris', 'Madamombe', 35)\n",
    "p.printname()\n"
   ]
  },
  {
   "cell_type": "markdown",
   "metadata": {},
   "source": [
    "INHERITANCE EXAMPLE 2"
   ]
  },
  {
   "cell_type": "code",
   "execution_count": null,
   "metadata": {},
   "outputs": [],
   "source": [
    "# create a class named Student, which will inherit the properties and methods from the Person class:\n",
    "class Student(Person):\n",
    "    def __init__(self, firstname, lastname, age, graduationyear, email): # define the __init__() function and add aditional properties\n",
    "        super().__init__(firstname, lastname, age) #use super().__init__() function of the parent class\n",
    "        self.graduationyear = graduationyear\n",
    "        self.email = email\n",
    "    def welcome(self):\n",
    "        welcome_message = print('My name is ' + self.firstname + ' ' + self.lastname + '. ' + 'I am ' + str(self.age) + ' years old.'\n",
    "                                + 'I attended my first graduation in the year ' + str(self.graduationyear) + '.' + ' My email address is ' + self.email + '.' \n",
    "                                )\n",
    "#create objects from the Student class, and call the welcome method.\n",
    "s = Student('Chucknorris', 'Madamombe', 35, 2012, 'chuckygari@gmail.com')\n",
    "s.welcome()\n"
   ]
  },
  {
   "cell_type": "markdown",
   "metadata": {},
   "source": [
    "INHERITANCE EXAMPLE 3\n",
    "\n",
    "‘a’ is the instance created for the class Employee. It invokes the __init__() of the referred class. You can see ‘object’ written in the declaration of the class Person. In Python, every class inherits from a built-in basic class called ‘object’. The constructor i.e. the ‘__init__’ function of a class is invoked when we create an object variable or an instance of the class.\n",
    "The variables defined within __init__() are called as the instance variables or objects. Hence, ‘name’ and ‘idnumber’ are the objects of the class Person. Similarly, ‘salary’ and ‘post’ are the objects of the class Employee. Since the class Employee inherits from class Person, ‘name’ and ‘idnumber’ are also the objects of class Employee.\n",
    "If you forget to invoke the __init__() of the parent class then its instance variables would not be available to the child class. \n",
    "The following code produces an error for the same reason. "
   ]
  },
  {
   "cell_type": "code",
   "execution_count": null,
   "metadata": {},
   "outputs": [],
   "source": [
    "# Python code to demonstrate how parent constructors\n",
    "# are called\n",
    "# parent class\n",
    "class Person(object):   \n",
    "\n",
    "        # __init__ is known as the constructor        \n",
    "        def __init__(self, name, idnumber):  \n",
    "                self.name = name\n",
    "                self.idnumber = idnumber\n",
    "\n",
    "        def display(self):\n",
    "                print(self.name)\n",
    "                print(self.idnumber)\n",
    " \n",
    "# child class\n",
    "class Employee(Person):          \n",
    "        def __init__(self, name, idnumber, salary, post):\n",
    "                self.salary = salary\n",
    "                self.post = post\n",
    " \n",
    "                # invoking the __init__ of the parent class\n",
    "                Person.__init__(self, name, idnumber)\n",
    " \n",
    "        def income(self):\n",
    "            print(self.post, self.salary, self.name)   \n",
    "\n",
    "# creation of an object variable or an instance\n",
    "a = Employee('Rahul', 886012, 200000, \"Intern\")   \n",
    "\n",
    "# calling a function of the class Person using its instance\n",
    "a.display()\n",
    "\n"
   ]
  },
  {
   "cell_type": "markdown",
   "metadata": {},
   "source": [
    "INHERITANCE EXAMPLE 4\n",
    "# Create a class named Users, with username and email properties and login method\n",
    "# Create class named Profile, with firstname, lastname and age properties and a details method\n",
    "# create objects from the defined classes and call the methods as well"
   ]
  },
  {
   "cell_type": "code",
   "execution_count": null,
   "metadata": {},
   "outputs": [],
   "source": []
  }
 ],
 "metadata": {
  "interpreter": {
   "hash": "95f7dfccbc23654c19756be864da188ef5574d67e8f20fb08b272092af0a246c"
  },
  "kernelspec": {
   "display_name": "Python 3.10.4 64-bit",
   "language": "python",
   "name": "python3"
  },
  "language_info": {
   "codemirror_mode": {
    "name": "ipython",
    "version": 3
   },
   "file_extension": ".py",
   "mimetype": "text/x-python",
   "name": "python",
   "nbconvert_exporter": "python",
   "pygments_lexer": "ipython3",
   "version": "3.10.4"
  },
  "orig_nbformat": 4
 },
 "nbformat": 4,
 "nbformat_minor": 2
}
